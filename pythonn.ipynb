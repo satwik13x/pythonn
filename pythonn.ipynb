{
 "cells": [
  {
   "cell_type": "code",
   "execution_count": 7,
   "metadata": {},
   "outputs": [
    {
     "name": "stdout",
     "output_type": "stream",
     "text": [
      "{'b'}\n"
     ]
    }
   ],
   "source": [
    "#find common elements\n",
    "def common_elements(L1, L2): \n",
    "      \n",
    "    L1_set = set(L1) \n",
    "    L2_set = set(L2) \n",
    "      \n",
    "    # check length  \n",
    "    if len(L1_set.intersection(L2_set)) > 0: \n",
    "        return(L1_set.intersection(L2_set))   \n",
    "    else: \n",
    "        return(\"no common elements\") \n",
    "      \n",
    "   \n",
    "L1 = ['a', 'b', 'c']\n",
    "L2 = ['b', 'd']\n",
    "print(common_elements(L1,L2)) \n"
   ]
  },
  {
   "cell_type": "code",
   "execution_count": 11,
   "metadata": {},
   "outputs": [
    {
     "name": "stdout",
     "output_type": "stream",
     "text": [
      ".\n",
      "\n",
      "...german_credit_data.csv\n",
      "...Gramener ML.ipynb\n",
      "...Untitled.ipynb\n",
      "\n",
      ".\\.ipynb_checkpoints\n",
      "\n",
      "...Gramener ML-checkpoint.ipynb\n",
      "...Untitled-checkpoint.ipynb\n",
      "\n"
     ]
    }
   ],
   "source": [
    "#Create a python function which takes the name of a directory and prints out the path files within that directory as well as any files contained in sub-directories.\n",
    "\n",
    "import os\n",
    "import fnmatch\n",
    "\n",
    "for root, dir, files in os.walk(\".\"):\n",
    "        print (root)\n",
    "        print (\"\")\n",
    "        for items in fnmatch.filter(files, \"*\"):\n",
    "                print (\"...\" + items)\n",
    "        print (\"\")"
   ]
  },
  {
   "cell_type": "code",
   "execution_count": null,
   "metadata": {},
   "outputs": [],
   "source": []
  }
 ],
 "metadata": {
  "kernelspec": {
   "display_name": "Python 3",
   "language": "python",
   "name": "python3"
  },
  "language_info": {
   "codemirror_mode": {
    "name": "ipython",
    "version": 3
   },
   "file_extension": ".py",
   "mimetype": "text/x-python",
   "name": "python",
   "nbconvert_exporter": "python",
   "pygments_lexer": "ipython3",
   "version": "3.7.0"
  }
 },
 "nbformat": 4,
 "nbformat_minor": 2
}
